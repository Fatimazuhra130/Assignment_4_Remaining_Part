{
 "cells": [
  {
   "cell_type": "code",
   "execution_count": 1,
   "metadata": {},
   "outputs": [
    {
     "name": "stdout",
     "output_type": "stream",
     "text": [
      "Fatima\n",
      "Zuhra\n",
      "26\n",
      "Karachi\n",
      "{'first_name': 'Fatima', 'last_name': 'Zuhra', 'age': 26, 'city': 'Karachi', 'qualification': 'Updated'}\n",
      "{'first_name': 'Fatima', 'last_name': 'Zuhra', 'age': 26, 'city': 'Karachi', 'qualification': 'MCS'}\n",
      "{'first_name': 'Fatima', 'last_name': 'Zuhra', 'age': 26, 'city': 'Karachi'}\n"
     ]
    }
   ],
   "source": [
    "\"Question # 1\"\n",
    "'''Use a dictionary to store information about a person you know. \n",
    "Store their first name, last name, age, and the city in which they live.\n",
    "You should have keys such as first_name, last_name, age, and city. \n",
    "Print each piece of information stored in your dictionary. \n",
    "Add a new key value pair about qualification then update the qualification value to high academic level then delete it'''\n",
    "\n",
    "person = {\n",
    "    'first_name': 'Fatima',\n",
    "    'last_name': 'Zuhra',\n",
    "    'age': 26,\n",
    "    'city': 'Karachi',\n",
    "    }\n",
    "\n",
    "print(person['first_name'])\n",
    "print(person['last_name'])\n",
    "print(person['age'])\n",
    "print(person['city'])\n",
    "\n",
    "person[\"qualification\"] = \"Updated\"\n",
    "print(person)\n",
    "\n",
    "person[\"qualification\"]= \"MCS\"\n",
    "print(person)\n",
    "\n",
    "del person[\"qualification\"]\n",
    "print(person)"
   ]
  },
  {
   "cell_type": "code",
   "execution_count": 3,
   "metadata": {},
   "outputs": [
    {
     "name": "stdout",
     "output_type": "stream",
     "text": [
      "{'country': 'Pakistan', 'population': 2000000, 'fact': \"It's a Big City Of Pakistan \"}\n",
      "{'country': 'Pakistan', 'population': 220000, 'fact': \"It's a Capital of  pakistan \"}\n",
      "{'country': 'India', 'population': 150000, 'fact': 'It is technology hub '}\n"
     ]
    }
   ],
   "source": [
    "\"Question # 2\"\n",
    "'''Make a dictionary called cities. Use the names of three cities as keys in your dictionary. \n",
    "Create a dictionary of information about each city and include the country that the city is in,\n",
    "its approximate population, and one fact about that city.\n",
    "The keys for each city’s dictionary should be something like country, population, and fact. \n",
    "Print the name of each city and all of the information you have stored about it. '''\n",
    "\n",
    "cities = {\n",
    "    \"Karachi\" : {\"country\"      : \"Pakistan\" , \"population\" : 2000000,\"fact\": \"It's a Big City Of Pakistan \"},\n",
    "    \n",
    "    \"Islamabad\"  : {\"country\"      : \"Pakistan\" ,\"population\" : 220000,\"fact\" : \"It's a Capital of  pakistan \"},\n",
    "    \n",
    "    \"Banglore\"    : {\"country\"      : \"India\" ,\"population\" : 150000,\"fact\" : \"It is technology hub \"}\n",
    "}\n",
    "\n",
    "print(cities[\"Karachi\"])\n",
    "print(cities[\"Islamabad\"])\n",
    "print(cities[\"Banglore\"])"
   ]
  },
  {
   "cell_type": "code",
   "execution_count": null,
   "metadata": {},
   "outputs": [
    {
     "name": "stdout",
     "output_type": "stream",
     "text": [
      "\n",
      "Enter your age or 'q' to stop asking3\n",
      "Your ticket is free\n"
     ]
    }
   ],
   "source": [
    "\"Question#3\"\n",
    "'''A movie theater charges different ticket prices depending on a person’s age. \n",
    "If a person is under the age of 3, the ticket is free; \n",
    "if they are between 3 and 12, the ticket is 10 dollars; and if they are over age 12, the ticket is 15 dollars.\n",
    "Write a loop in which you ask users their age, and then tell them the cost of their movie ticket'''\n",
    "\n",
    "\n",
    "while True:\n",
    "    age = input(\"\\nEnter your age or 'q' to stop asking\")\n",
    "    age = int(age)\n",
    "\n",
    "\n",
    "    if age == 'quit':\n",
    "        break\n",
    "    elif age <= 3:\n",
    "        print(\"Your ticket is free\")\n",
    "    elif age <= 12:\n",
    "        print(\"Your ticket is $10\")\n",
    "    else:\n",
    "        print(\"Your ticket is $15\")"
   ]
  },
  {
   "cell_type": "code",
   "execution_count": null,
   "metadata": {},
   "outputs": [],
   "source": [
    "\"Question#4\"\n",
    "'''Write a function called favorite_book() that accepts one parameter, title. \n",
    "The function should print a message, such as One of my favorite books is Alice in Wonderland. \n",
    "Call the function, making sure to include a book title as an argument in the function call'''\n",
    "\n",
    "def favorite_book(title):\n",
    "    print(f\"One of my favorite books is '{title}'.\")\n",
    "    \n",
    "favorite_book(\"Alice in Wonderland\")\n",
    "favorite_book(\"You can win \")"
   ]
  },
  {
   "cell_type": "code",
   "execution_count": null,
   "metadata": {},
   "outputs": [],
   "source": []
  }
 ],
 "metadata": {
  "kernelspec": {
   "display_name": "Python 3",
   "language": "python",
   "name": "python3"
  },
  "language_info": {
   "codemirror_mode": {
    "name": "ipython",
    "version": 3
   },
   "file_extension": ".py",
   "mimetype": "text/x-python",
   "name": "python",
   "nbconvert_exporter": "python",
   "pygments_lexer": "ipython3",
   "version": "3.7.4"
  }
 },
 "nbformat": 4,
 "nbformat_minor": 2
}
